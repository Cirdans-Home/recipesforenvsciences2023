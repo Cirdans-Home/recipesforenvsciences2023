{
 "cells": [
  {
   "cell_type": "markdown",
   "id": "d4998397",
   "metadata": {},
   "source": [
    "# Reading, writing and plotting data\n",
    "\n",
    "One of the transverse usages of MATLAB is as a tool for analyzing and plotting\n",
    "data coming from the most various sources. This material covers the commands\n",
    "and the ideas we may need to perform these tasks.\n",
    "\n",
    "As you should remember from the introduction to the language, in MATLAB\n",
    "the most natural way of representing data is with matrices, scalars are\n",
    "$1\\times 1$ matrices. But how can you **populate these matrices** with the data\n",
    "coming from your experiments? **Are** always **matrices** the **right format**?\n",
    "\n",
    "We will start with an *example*, from\n",
    "[here](https://cirdans-home.github.io/recipesforenvsciences/data/london_combined_2019_all.csv)\n",
    "you can download a **csv** file containing information on the quantity of\n",
    "pm2 particles from pollution stations in the city of London in 2019.\n",
    "\n",
    ":::{tip}\n",
    "CSV stands for comma-separated values. These are delimited text files which use\n",
    "a comma to separate values. **Each line** of the file is **a data record**.\n",
    "**Each record** consists of **one or more fields**, separated by commas.\n",
    "\n",
    "In most of them the separator is indeed a comma, and this justifies the source\n",
    "of the name for the format. Nevertheless, this is not always the case, and\n",
    "other delimiters can be found. In well formatted files each line will have\n",
    "the same number of fields.\n",
    ":::\n",
    "\n",
    "Let us work with the data we have just downloaded. First of all, we create\n",
    "a new *MATLAB script* called  `londonpollution.m`, and we put the downloaded\n",
    "data in the same folder of the script\n",
    "\n",
    "```{code-block} matlab\n",
    "%% London Pollution Data\n",
    "% Analysis of the Pollution data from London.\n",
    "\n",
    "clear; clc; close all;\n",
    "```\n",
    "If you look at the first lines of the CSV file you have downloaded, you will\n",
    "see that in the same file appear different types of data, *strings*, *numbers*,\n",
    "*datetime*, and so on. This means that we **cannot store** all these information\n",
    "in a matrix. Matrices only take data of homogeneous type. The right type of\n",
    "variable to use is a `table`.\n",
    "\n",
    "We use the command `readtable` to load all this information into MATLAB\n",
    "```{code-block} matlab\n",
    "london = readtable('london_combined_2019_all.csv');\n",
    "```\n",
    "After these are in memory, you can get some information on the variable by\n",
    "writing in the **command line**:\n",
    "```{code-block} matlab\n",
    "whos london\n",
    "```\n",
    "and getting the answer\n",
    "```{code-block} bash\n",
    "Name            Size               Bytes  Class    Attributes\n",
    "london      24676x9             16527487  table   \n",
    "```\n",
    "that tells us that we have loaded a table with 24676 rows, divided in 9 columns.\n",
    "Again from the command window we can look at what are the first rows by doing:\n",
    "```{code-block} matlab\n",
    "head(london)\n",
    "```\n",
    "that prints out\n",
    "```{code-block} bash\n",
    ">> head(london)\n",
    "\n",
    "ans =\n",
    "\n",
    "  8×9 table\n",
    "\n",
    "      city      latitude    longitude    country            utc                       location               parameter     unit      value\n",
    "    ________    ________    _________    _______    ___________________    ______________________________    _________    _______    _____\n",
    "\n",
    "    'London'     51.453     0.070766      'GB'      2019-02-18 23:00:00    'London Eltham'                    'pm25'      'ug/m3'      7  \n",
    "    'London'     51.489     -0.44161      'GB'      2019-02-18 23:00:00    'London Harlington'                'pm25'      'ug/m3'      8  \n",
    "    'London'     51.523     -0.15461      'GB'      2019-02-18 23:00:00    'London Marylebone Road'           'pm25'      'ug/m3'     17  \n",
    "    'London'     51.521     -0.21349      'GB'      2019-02-18 23:00:00    'London N. Kensington'             'pm25'      'ug/m3'      8  \n",
    "    'London'     51.425     -0.34561      'GB'      2019-02-18 23:00:00    'London Teddington Bushy Park'     'pm25'      'ug/m3'      8  \n",
    "    'London'     51.495     -0.13193      'GB'      2019-02-18 23:00:00    'London Westminster'               'pm25'      'ug/m3'     11  \n",
    "    'London'     51.544     -0.17527      'GB'      2019-02-19 00:00:00    'Camden Kerbside'                  'pm25'      'ug/m3'      9  \n",
    "    'London'     51.453     0.070766      'GB'      2019-02-19 00:00:00    'London Eltham'                    'pm25'      'ug/m3'      7  \n",
    "```\n",
    "\n",
    "Let us now try to add some commands to our script to produce plots showing us\n",
    "information on the data.\n",
    "\n",
    "We focus on the first of the locations `London Eltham`, and we want to plot the\n",
    "quantity of pm25 we have measured in the whole period. For doing this we need\n",
    "to perform a slicing of the data. We need to find the rows that correspond to\n",
    "this location, we can do this by using the command\n",
    "```{code-block} matlab\n",
    "index = strcmp(london.location,'London Eltham');\n",
    "```\n",
    "at the end of this call the variable `index` will be a vector having a `1` in\n",
    "position `i` if `london.location(i)` is `'London Eltham'`, and a `0` otherwise.\n",
    "With this knowledge we can now produce a `plot` of these values by adding to\n",
    "the script\n",
    "```{code-block} matlab\n",
    "figure(1)\n",
    "plot(london.utc(index),london.value(index),'o')\n",
    "xlabel('UTC');\n",
    "ylabel('pm25 ug/m3');\n",
    "```\n",
    "obtaining\n",
    "```{image} images/london-eltham.png\n",
    ":alt: Quantity of pm25 in London Eltham\n",
    ":width: 600px\n",
    ":align: center\n",
    "```\n",
    "Now let us repeat the same task for all the different location. We want to\n",
    "produce now a single plot with different subplots in which each of them has\n",
    "one of the Locations. Since we do not want to rewrite many times the same\n",
    "piece of code, we will make use of a `for` cycle\n",
    "```{code-block} matlab\n",
    "location = unique(london.location);\n",
    "\n",
    "for i=1:length(location)\n",
    "    index = strcmp(london.location,location{i});\n",
    "    figure(2)\n",
    "    subplot(5,2,i)\n",
    "    plot(london.utc(index),london.value(index),'o')\n",
    "    xlabel('UTC');\n",
    "    ylabel('pm25 ug/m3');\n",
    "    title(location{i});\n",
    "end\n",
    "```\n",
    "The first line `location = unique(london.location);` produces, as you may guess,\n",
    "the unique list of locations of our table. If we ask it on the command window,\n",
    "we discover that these are\n",
    "```{code-block} bash\n",
    ">> location\n",
    "\n",
    "location =\n",
    "\n",
    "  10×1 cell array\n",
    "\n",
    "    {'Camden Kerbside'             }\n",
    "    {'London Bexley'               }\n",
    "    {'London Bloomsbury'           }\n",
    "    {'London Eltham'               }\n",
    "    {'London Harlington'           }\n",
    "    {'London Marylebone Road'      }\n",
    "    {'London N. Kensington'        }\n",
    "    {'London Teddington Bushy Park'}\n",
    "    {'London Westminster'          }\n",
    "    {'Southend-on-Sea'             }\n",
    "```\n",
    "Then we loop the code for all the unique locations and repeat the same procedure\n",
    "as before, with some small difference. When we look for the `index` vector\n",
    "we now do the comparison with each and every location by looping through the\n",
    "location `cell array` with the `i` index, i.e., `index = strcmp(london.location,location{i});`.\n",
    "Then the remaining part is pretty much the same, a part from the command `subplot`\n",
    "that tell us the number of panels in which we want to subdivide `figure(2)`, in\n",
    "this case 5 rows and 2 columns, and in which of them we are going to plot, the\n",
    "$i$th panel at cycle `i`. If we run all this code, we get:\n",
    "```{image} images/london-allplaces1.png\n",
    ":alt: Quantity of pm25 in London\n",
    ":width: 600px\n",
    ":align: center\n",
    "```\n",
    "A variant of this idea could be the one of having all the plots overlapped\n",
    "on the same figure to do a fast comparison\n",
    "```{code-block} matlab\n",
    "Markers = {'+','o','*','x','v','d','^','s','>','<'};\n",
    "for i=1:length(location)\n",
    "    index = strcmp(london.location,location{i});\n",
    "    figure(3)\n",
    "    hold on\n",
    "    plot(london.utc(index),london.value(index),Markers{i},'DisplayName',location{i})\n",
    "    hold off\n",
    "end\n",
    "xlabel('UTC');\n",
    "ylabel('pm25 ug/m3');\n",
    "legend('Location','eastoutside');\n",
    "```\n",
    "from which we obtain\n",
    "```{image} images/london-allplaces2.png\n",
    ":alt: Quantity of pm25 in London\n",
    ":width: 700px\n",
    ":align: center\n",
    "```\n",
    "We have introduced here several new keywords,\n",
    "- `hold on` retains plots in the current axes so that new plots added to the\n",
    "axes do not delete existing plots.\n",
    "- `hold off` sets the hold state to off so that new plots added to the axes\n",
    "clear existing plots and reset all axes properties.\n",
    "- `legend` creates a legend with descriptive labels for each plotted data\n",
    "series. For the labels, the legend uses the text from the `DisplayName`\n",
    "properties of the data series.\n",
    "\n",
    "This visual comparison we have constructed is, however, rather inconclusive.\n",
    "Let us try producing a **box plot** for the different locations. This can be\n",
    "done with:\n",
    "```{code-block} matlab\n",
    "figure(4)\n",
    "boxplot(london.value,london.location);\n",
    "ylabel('pm25 ug/m3');\n",
    "xtickangle(30)\n",
    "```\n",
    "that produces\n",
    "```{image} images/london-allplaces3.png\n",
    ":alt: Quantity of pm25 in London\n",
    ":width: 600px\n",
    ":align: center\n",
    "```\n",
    "The commands we have used here are\n",
    "- `boxplot(x,g)` creates a box plot using one or more grouping variables\n",
    "contained in `g`. `boxplot` produces a separate box for each set of `x`\n",
    "values that share the same `g` value or values.\n",
    "- `xtickangle` rotates the x-axis tick labels for the current axes to the\n",
    "specified angle in degrees, where 0 is horizontal. Specify a positive value\n",
    "for counterclockwise rotation or a negative value for clockwise rotation.\n",
    "\n",
    "From this figure we discover that living in *Marylebone Road* is worse on\n",
    "average for the quantity of pm25.\n",
    "\n",
    "```{danger}\n",
    "The following part depends on having the Mapping Toolbox installed.\n",
    "```\n",
    "\n",
    "To conclude this part, let us put some of these information on a geographical\n",
    "map. First we need to collect the *latitudes* and *longitudes* of the\n",
    "different locations, then we decide that the size of the marker on the map\n",
    "will be given by the `mean` of the values of pm25 in that location:\n",
    "```{code-block} matlab\n",
    "latitude = zeros(10,1);\n",
    "longitude = zeros(10,1);\n",
    "average = zeros(10,1);\n",
    "for i=1:10\n",
    "    index = strcmp(london.location,location{i});\n",
    "    latitude(i) = unique(london.latitude(index));\n",
    "    longitude(i) = unique(london.longitude(index));\n",
    "    average(i) = mean(london.value(index));\n",
    "end\n",
    "figure(5)\n",
    "tab = table(latitude,longitude,average);\n",
    "gb = geobubble(tab,'latitude','longitude', ...\n",
    "    'SizeVariable','average');\n",
    "gb.SizeLegendTitle = 'Average pm25';\n",
    "geobasemap colorterrain\n",
    "```\n",
    "from which we get\n",
    "```{image} images/london-allplaces4.png\n",
    ":alt: Quantity of pm25 in London\n",
    ":width: 600px\n",
    ":align: center\n",
    "```\n",
    "A better view using a map including the streets can be obtained by doing\n",
    "```{code-block} matlab\n",
    "figure(6)\n",
    "gb = geobubble(tab,'latitude','longitude', ...\n",
    "    'SizeVariable','average');\n",
    "gb.SizeLegendTitle = 'Average pm25';\n",
    "name = 'openstreetmap';\n",
    "url = 'a.tile.openstreetmap.org';\n",
    "copyright = char(uint8(169));\n",
    "attribution = copyright + \"OpenStreetMap contributors\";\n",
    "addCustomBasemap(name,url,'Attribution',attribution)\n",
    "geobasemap openstreetmap\n",
    "gb.MapLayout = 'maximized';\n",
    "```\n",
    "from which we obtain\n",
    "```{image} images/london-allplaces5.png\n",
    ":alt: Quantity of pm25 in London\n",
    ":width: 600px\n",
    ":align: center\n",
    "```\n",
    "\n",
    "::::{margin}\n",
    "![Mandelbrot set with 1000 iterations.](/images/mandelbroot.png)\n",
    "::::\n",
    "\n",
    "::::{exercise}\n",
    "Let's explore MATLAB's * plot * functions again. We try to produce a print of the whole\n",
    "[Mandelbrot fractal](https://en.wikipedia.org/wiki/Mandelbrot_set). This set is\n",
    "the set is the set of complex numbers $ c $ for which the function $ f_{c}(z) = z^{2} + c$\n",
    "does not **diverge** when iterated starting from $ z = 0 $, that is, the set\n",
    "of those points $ c $ so the sequence $ f_{c} (0), f_{c} (f_{c} (0)), \\ldots $\n",
    "remains limited in absolute value. We can build a MATLAB *script* that allows\n",
    "us to draw an approximation of this set.\n",
    "1. We use the `linspace` function to construct the set of numbers\n",
    "$ c $ complexes on which we want to evaluate. Since `linspace` produces one\n",
    "real vector for us, we need to construct two of them -- one for each direction --\n",
    "and transform them into a set of evaluation pairs with the` meshgrid` function.\n",
    "A good real set to evaluate to draw the Mandelbrot set is $ [- 2.1,0.6] \\times [-1.1,1.1] $.\n",
    "2. Now that we have the real evaluations, we need to transform $ c $ into\n",
    "complex numbers. We can do this by using the `complex` function:` C = complex (X, Y) `\n",
    "on the pair of evaluation matrices obtained from` meshgrid`.\n",
    "3. We can now implement a fixed number of iterations of the function $ f_{c} (z) = z^{2} + c $\n",
    "using a `for` loop.\n",
    "4. We conclude the exercise by drawing the Mandelbrot set with the function\n",
    "```matlab\n",
    "contourf(x,y,double(abs(Z)<1e6))\n",
    "title('Mandelbrot set')\n",
    "```\n",
    "which is a good chance to see what the *plot* function does `contourf`\n",
    "(`help contourf`).\n",
    ":::::\n",
    "\n",
    ":::{tip}\n",
    "There are many others plotting functions, but we will focus on them in the\n",
    "following topics, while we solve problems for which they will be useful.\n",
    ":::\n",
    "\n",
    "## Principal Component Analysis\n",
    "\n",
    "Principal Component Analysis (PCA) is just a method of **summarizing some data**.\n",
    "Whenever we collect data from an experiment we expect it to be described by a\n",
    "large number of characteristics, but fortunately *many* of them will *measure related properties*\n",
    "and so will be **redundant**. We could therefore think of \"throwing away\" some\n",
    "data to keep only the significant ones. Instead, PCA constructs some **new characteristics**\n",
    "that better summarize our list of data. Such characteristics will always be\n",
    "constructed by using the old ones.\n",
    "\n",
    "Such **new characteristics** will be constructed as **linear combinations** of\n",
    "the available data and will be constructed in such a way to **retain** as much as\n",
    "possible of the **variation** present **in the data** set.\n",
    "\n",
    "We can describe PCA in many ways, the simplest way being to describe it in\n",
    "terms of the **data matrix factorization**. So we can take advantage of the\n",
    "knowledge of *(numerical) linear algebra* that we dusted off in our introduction\n",
    "to MATLAB.\n",
    "\n",
    "Consider an $n\\times p$ data matrix, $X$, with column-wise zero empirical mean\n",
    "(the sample mean of each column has been shifted to zero), where each of the\n",
    "$n$ rows represents a different repetition of the experiment, and each of the\n",
    "$p$ columns gives a particular kind of feature (e.g, the results obtained from\n",
    "a particular sensor).\n",
    "\n",
    "PCA is then **defined** as an _orthogonal linear transformation_ that transforms\n",
    "the data to a **new coordinate system** such that\n",
    "1. the greatest variance by some scalar projection of the data comes to lie on\n",
    "the first coordinate: the first principal component;\n",
    "2. the second greatest variance on the second coordinate;\n",
    "3. the third on the third;\n",
    "\n",
    "Mathematically, the transformation is defined by a set of size $l$ of $p$-dimensional\n",
    "vectors of weights or coefficients $\\mathbf {w} _{(k)}=(w_{1},\\dots ,w_{p})_{(k)}$\n",
    "that map each row vector $\\mathbf{x}_{(i)}$ of $X$ to a new vector of principal\n",
    "component scores ${\\displaystyle \\mathbf {t} _{(i)}=(t_{1},\\dots ,t_{l})_{(i)}}$,\n",
    "given by\n",
    "```{math}\n",
    "{\\displaystyle {t_{k}}_{(i)}=\\mathbf {x} _{(i)}\\cdot \\mathbf {w} _{(k)}\\qquad \\mathrm {for} \\qquad i=1,\\dots ,n\\qquad k=1,\\dots ,l}\n",
    "```\n",
    "in such a way that the individual variables ${\\displaystyle t_{1},\\dots ,t_{l}}$\n",
    "of $t$ considered over the data set successively inherit the maximum possible\n",
    "variance from $X$, with each coefficient vector $w$ constrained to be a unit\n",
    "vector. To **reduce dimensionality** we need $l \\ll p$!\n",
    "\n",
    "### Computing the PCA: Eingevalues and Singular Values\n",
    "\n",
    "To simply express this transformation we can use the following **matrix factorization**,\n",
    "that is called *singular value decomposition* (SVD) of the matrix $X$,\n",
    "```{math}\n",
    "    X = U \\Sigma W^T\n",
    "```\n",
    "Here $\\Sigma$ is an $n$-by-$p$ rectangular diagonal matrix of positive numbers\n",
    "$\\sigma_k$, called the **singular values** of $X$; $U$ is an $n$-by-$n$ matrix,\n",
    "the columns of which are **orthogonal unit vectors** of length $n$ called the\n",
    "left singular vectors of $X$; and $W$ is a $p$-by-$p$ matrix whose columns are\n",
    "orthogonal unit vectors of length $p$ and called the right singular vectors of\n",
    "$X$.\n",
    "\n",
    "Let us investigate the connection and  the MATLAB commands starting from an\n",
    "example. First of all we [load a dataset](https://github.com/Cirdans-Home/recipesforenvsciences2023/blob/main/src/data/Pizza.csv)"
   ]
  },
  {
   "cell_type": "code",
   "execution_count": 1,
   "id": "c3a79f13",
   "metadata": {},
   "outputs": [],
   "source": [
    "pizzadata = readtable('data/Pizza.csv'); % Use here the right path for you!"
   ]
  },
  {
   "cell_type": "markdown",
   "id": "7632a394",
   "metadata": {},
   "source": [
    "of which we can again look at the first few lines by doing:"
   ]
  },
  {
   "cell_type": "code",
   "execution_count": 2,
   "id": "b9dbb0f5",
   "metadata": {},
   "outputs": [
    {
     "name": "stdout",
     "output_type": "stream",
     "text": [
      "    brand     id      mois     prot      fat     ash     sodium    carb    cal \n"
     ]
    },
    {
     "name": "stdout",
     "output_type": "stream",
     "text": [
      "    _____    _____    _____    _____    _____    ____    ______    ____    ____\n",
      "\n"
     ]
    },
    {
     "name": "stdout",
     "output_type": "stream",
     "text": [
      "    {'A'}    14069    27.82    21.43    44.87    5.11     1.77     0.77    4.93\n"
     ]
    },
    {
     "name": "stdout",
     "output_type": "stream",
     "text": [
      "    {'A'}    14053    28.49    21.26    43.89    5.34     1.79     1.02    4.84\n"
     ]
    },
    {
     "name": "stdout",
     "output_type": "stream",
     "text": [
      "    {'A'}    14025    28.35    19.99    45.78    5.08     1.63      0.8    4.95\n"
     ]
    },
    {
     "name": "stdout",
     "output_type": "stream",
     "text": [
      "    {'A'}    14016    30.55    20.15    43.13    4.79     1.61     1.38    4.74\n"
     ]
    },
    {
     "name": "stdout",
     "output_type": "stream",
     "text": [
      "    {'A'}    14005    30.49    21.28    41.65    4.82     1.64     1.76    4.67\n"
     ]
    },
    {
     "name": "stdout",
     "output_type": "stream",
     "text": [
      "    {'A'}    14075    31.14    20.23    42.31    4.92     1.65      1.4    4.67\n"
     ]
    },
    {
     "name": "stdout",
     "output_type": "stream",
     "text": [
      "    {'A'}    14082    31.21    20.97    41.34    4.71     1.58     1.77    4.63\n"
     ]
    },
    {
     "name": "stdout",
     "output_type": "stream",
     "text": [
      "    {'A'}    14097    28.76    21.41     41.6    5.28     1.75     2.95    4.72\n",
      "\n"
     ]
    }
   ],
   "source": [
    "head(pizzadata)"
   ]
  },
  {
   "cell_type": "markdown",
   "id": "02d9901e",
   "metadata": {},
   "source": [
    "The dataset describes the analysis of the pizzas produced by some bakeries with\n",
    "respect to the quantities of interest.\n",
    "\n",
    "First we can extract the observations matrix from the table, for example by doing:"
   ]
  },
  {
   "cell_type": "code",
   "execution_count": 3,
   "id": "9f406137",
   "metadata": {},
   "outputs": [
    {
     "name": "stdout",
     "output_type": "stream",
     "text": [
      "We have 300 experiments with 7 characteristics.\n"
     ]
    }
   ],
   "source": [
    "X = table2array(pizzadata(:,3:end));\n",
    "[n,p] = size(X);\n",
    "fprintf('We have %d experiments with %d characteristics.\\n',n,p);"
   ]
  },
  {
   "cell_type": "markdown",
   "id": "e8098dff",
   "metadata": {},
   "source": [
    "We need to make the data independent from the scales and the unit of measure,\n",
    "indeed if we look them now they are such that:"
   ]
  },
  {
   "cell_type": "code",
   "execution_count": 4,
   "id": "8ff26ab2",
   "metadata": {},
   "outputs": [
    {
     "data": {
      "image/png": "[encoded data removed]",
      "text/plain": [
       "<IPython.core.display.Image object>"
      ]
     },
     "metadata": {
      "filenames": {
       "image/png": "/home/cirdan/Documenti/Didattica/Corso Modena/phdmodena/recipesforenvsciences2023/src/_build/jupyter_execute/ioplot_7_0.png"
      }
     },
     "output_type": "display_data"
    }
   ],
   "source": [
    "boxplot(X,'Orientation','horizontal','Labels',pizzadata.Properties.VariableNames(3:end))\n",
    "title('Original data')"
   ]
  },
  {
   "cell_type": "markdown",
   "id": "84074dab",
   "metadata": {},
   "source": [
    "we should normalize the data, first by removing **averages**"
   ]
  },
  {
   "cell_type": "code",
   "execution_count": 5,
   "id": "27fa10a4",
   "metadata": {},
   "outputs": [
    {
     "data": {
      "image/png": "[encoded data removed]",
      "text/plain": [
       "<IPython.core.display.Image object>"
      ]
     },
     "metadata": {
      "filenames": {
       "image/png": "/home/cirdan/Documenti/Didattica/Corso Modena/phdmodena/recipesforenvsciences2023/src/_build/jupyter_execute/ioplot_9_0.png"
      }
     },
     "output_type": "display_data"
    }
   ],
   "source": [
    "X = X - mean(X);\n",
    "boxplot(X,'Orientation','horizontal','Labels',pizzadata.Properties.VariableNames(3:end))\n",
    "title('Normalized around the mean')"
   ]
  },
  {
   "cell_type": "markdown",
   "id": "71a1dec6",
   "metadata": {},
   "source": [
    "and also normalizing with respect to the **standard deviation**"
   ]
  },
  {
   "cell_type": "code",
   "execution_count": 6,
   "id": "bde7aba6",
   "metadata": {},
   "outputs": [
    {
     "data": {
      "image/png": "[encoded data removed]",
      "text/plain": [
       "<IPython.core.display.Image object>"
      ]
     },
     "metadata": {
      "filenames": {
       "image/png": "/home/cirdan/Documenti/Didattica/Corso Modena/phdmodena/recipesforenvsciences2023/src/_build/jupyter_execute/ioplot_11_0.png"
      }
     },
     "output_type": "display_data"
    }
   ],
   "source": [
    "X = X./std(X);\n",
    "boxplot(X,'Orientation','horizontal','Labels',pizzadata.Properties.VariableNames(3:end))\n",
    "title('Normalized data (mean,std)')"
   ]
  },
  {
   "cell_type": "markdown",
   "id": "83342a5a",
   "metadata": {},
   "source": [
    "We now have two ways in front of us, calculate the correlation matrix, or work\n",
    "directly with the $X$ matrix. Let's start with the first.\n",
    "The **correlation matrix** can be computed by doing:"
   ]
  },
  {
   "cell_type": "code",
   "execution_count": 7,
   "id": "b7cd25cb",
   "metadata": {},
   "outputs": [],
   "source": [
    "C = (X'*X)/(n-1);"
   ]
  },
  {
   "cell_type": "markdown",
   "id": "6b064626",
   "metadata": {},
   "source": [
    "or using the relevant MATLAB function `corr`, that is\n",
    "```{code-block} matlab\n",
    "C = corr(X);\n",
    "```\n",
    "we can check that the two quantities are indeed the same by looking at"
   ]
  },
  {
   "cell_type": "code",
   "execution_count": 8,
   "id": "89f01ca5",
   "metadata": {},
   "outputs": [
    {
     "name": "stdout",
     "output_type": "stream",
     "text": [
      "|| (X'*X)/(n-1) - corr(X) ||_infty = 1.738193e-15\n"
     ]
    }
   ],
   "source": [
    "fprintf(\"|| (X'*X)/(n-1) - corr(X) ||_infty = %e\\n\",norm(C -  corr(X),\"inf\"));"
   ]
  },
  {
   "cell_type": "markdown",
   "id": "eedf23a6",
   "metadata": {},
   "source": [
    "Then the PCA can be obtained by using the **eigendecomposition** of $C$.\n",
    "\n",
    ":::{prf:definition}\n",
    "Given a matrix $A \\in \\mathbb{C}^{p \\times p}$ we say that $\\mathbf{0} \\neq \\mathbf{v}  \\in \\mathbb{C}^{p}$\n",
    "is an **eigenvector** of matrix $A$ related to the **eigenvalue** $\\lambda \\in \\mathbb{C}$ if\n",
    "```{math}\n",
    " A \\mathbf{v} = \\lambda \\mathbf{v}.\n",
    "```\n",
    "If $A$ admits $p$ *linearly independent* eigenvectors we can then decompose\n",
    "```{math}\n",
    "A = V \\Lambda V^{-1}, \\quad \\Lambda = \\operatorname{diag}(\\lambda_1,\\ldots,\\lambda_p), \\; V = [\\mathbf{v}_1,\\ldots,\\mathbf{v}_p].\n",
    "```\n",
    "Furthermore, if $A = A^H$ then we know that such *linearly independent* eigenvectors\n",
    "always exist and the matrix $V$ can be selected to be *orthogonal*, i.e., $V^T = V^{-1}$.\n",
    ":::\n",
    "\n",
    "The eigenvectors are then the **principal axes** or **principal directions** of\n",
    "the data. Projections of the data on the principal axes are the **principal components**,\n",
    "or the **PC scores**, i.e., the new **transformed variables**:\n",
    "- the $j$th principal component is given by $j$th column of $XV$,\n",
    "- the coordinates of the $i$th data point in the new space are given by the $i$th row of $XV$.\n",
    "\n",
    "We can **compute them in MATLAB** by using the `eig` command"
   ]
  },
  {
   "cell_type": "code",
   "execution_count": 9,
   "id": "5c472a19",
   "metadata": {},
   "outputs": [
    {
     "name": "stdout",
     "output_type": "stream",
     "text": [
      " eig - Eigenvalues and eigenvectors\n",
      "    This MATLAB function returns a column vector containing the eigenvalues\n",
      "    of square matrix A.\n",
      "\n",
      "    Syntax\n",
      "      e = eig(A)\n",
      "      [V,D] = eig(A)\n",
      "      [V,D,W] = eig(A)\n",
      "\n",
      "      e = eig(A,B)\n",
      "      [V,D] = eig(A,B)\n",
      "      [V,D,W] = eig(A,B)\n",
      "\n",
      "      [___] = eig(A,balanceOption)\n",
      "      [___] = eig(A,B,algorithm)\n",
      "\n",
      "      [___] = eig(___,outputForm)\n",
      "\n",
      "    Input Arguments\n",
      "      A - Input matrix\n",
      "        square matrix\n",
      "      B - Generalized eigenvalue problem input matrix\n",
      "        square matrix\n",
      "      balanceOption - Balance option\n",
      "        'balance' (default) | 'nobalance'\n",
      "      algorithm - Generalized eigenvalue algorithm\n",
      "        'chol' | 'qz'\n",
      "      outputForm - Output format of eigenvalues\n",
      "        'vector' | 'matrix'\n",
      "\n",
      "    Output Arguments\n",
      "      e - Eigenvalues (returned as vector)\n",
      "        column vector\n",
      "      V - Right eigenvectors\n",
      "        square matrix\n",
      "      D - Eigenvalues (returned as matrix)\n",
      "        diagonal matrix\n",
      "      W - Left eigenvectors\n",
      "        square matrix\n",
      "\n",
      "    Examples\n",
      "    "
     ]
    },
    {
     "name": "stdout",
     "output_type": "stream",
     "text": [
      "  Eigenvalues of Matrix\n",
      "      Eigenvalues and Eigenvectors of Matrix\n",
      "      Sorted Eigenvalues and Eigenvectors\n",
      "      Left Eigenvectors\n",
      "      Eigenvalues of Nondiagonalizable (Defective) Matrix\n",
      "      Generalized Eigenvalues\n",
      "      Generalized Eigenvalues Using QZ Algorithm for Badly Conditioned Matrices\n",
      "      Generalized Eigenvalues Where One Matrix Is Singular\n",
      "\n",
      "    See also eigs, polyeig, balance, condeig, cdf2rdf, hess, schur, qz\n",
      "\n",
      "    Introduced in MATLAB before R2006a\n",
      "    Documentation for eig\n",
      "       doc eig\n",
      "\n",
      "    Other uses of eig\n",
      "\n",
      "       codistributed/eig    gpuArray/eig    sym/eig    symbolic/eig\n",
      "       DynamicSystem/eig\n",
      "\n"
     ]
    }
   ],
   "source": [
    "help eig"
   ]
  },
  {
   "cell_type": "markdown",
   "id": "8d4c6deb",
   "metadata": {},
   "source": [
    "In our case this reduces to"
   ]
  },
  {
   "cell_type": "code",
   "execution_count": 10,
   "id": "fc71709b",
   "metadata": {},
   "outputs": [],
   "source": [
    "[V,L] = eig(C);"
   ]
  },
  {
   "cell_type": "markdown",
   "id": "412a4579",
   "metadata": {},
   "source": [
    "and we can visualize the component variances by doing"
   ]
  },
  {
   "cell_type": "code",
   "execution_count": 11,
   "id": "c290bc63",
   "metadata": {},
   "outputs": [
    {
     "data": {
      "image/png": "[encoded data removed]",
      "text/plain": [
       "<IPython.core.display.Image object>"
      ]
     },
     "metadata": {
      "filenames": {
       "image/png": "/home/cirdan/Documenti/Didattica/Corso Modena/phdmodena/recipesforenvsciences2023/src/_build/jupyter_execute/ioplot_21_0.png"
      }
     },
     "output_type": "display_data"
    }
   ],
   "source": [
    "figure(1)\n",
    "semilogy(1:p,sort(diag(L),\"descend\"),'o')\n",
    "xlabel(\"p\")\n",
    "ylabel(\"Component variances\")"
   ]
  },
  {
   "cell_type": "markdown",
   "id": "083d645d",
   "metadata": {},
   "source": [
    "### PCA from SVD\n",
    "\n",
    "We can now travel the second road and use the SVD on $X$. In MATLAB the **singular value decomposition**\n",
    "(SVD) can be computed with the `svd`\n",
    "command:"
   ]
  },
  {
   "cell_type": "code",
   "execution_count": 12,
   "id": "db11507b",
   "metadata": {},
   "outputs": [
    {
     "name": "stdout",
     "output_type": "stream",
     "text": [
      " svd - Singular value decomposition\n",
      "    This MATLAB function returns the singular values of matrix A in\n",
      "    descending order.\n",
      "\n",
      "    Syntax\n",
      "      S = svd(A)\n",
      "      [U,S,V] = svd(A)\n",
      "      [___] = svd(A,\"econ\")\n",
      "      [___] = svd(A,0)\n",
      "      [___] = svd(___,outputForm)\n",
      "\n",
      "    Input Arguments\n",
      "      A - Input matrix\n",
      "        matrix\n",
      "      outputForm - Output format of singular values\n",
      "        \"vector\" | \"matrix\"\n",
      "\n",
      "    Output Arguments\n",
      "      U - Left singular vectors\n",
      "        matrix\n",
      "      S - Singular values\n",
      "        diagonal matrix | column vector\n",
      "      V - Right singular vectors\n",
      "        matrix\n",
      "\n",
      "    Examples\n",
      "      Singular Values of Matrix\n",
      "      Singular Value Decomposition\n",
      "      Economy-Size Decomposition\n",
      "      Control Singular Value Output Format\n",
      "      Rank, Column Space, and Null Space of Matrix\n",
      "\n",
      "    See also svds, svdsketch, pagesvd, rank, orth, null, gsvd\n",
      "\n",
      "    Introduced in MATLAB before R2006a\n",
      "    Documentation for svd\n",
      "       doc svd\n",
      "\n",
      "    Other uses of svd\n",
      "\n",
      "       codistributed/svd    gpuArray/svd    sym/svd    tall/svd"
     ]
    },
    {
     "name": "stdout",
     "output_type": "stream",
     "text": [
      "\n",
      "       double/svd\n",
      "\n"
     ]
    }
   ],
   "source": [
    "help svd"
   ]
  },
  {
   "cell_type": "markdown",
   "id": "7ccdefb0",
   "metadata": {},
   "source": [
    "If we now perform singular value decomposition of $X$, we obtain a decomposition\n",
    "$X = U \\Sigma W^T$. From here one can easily see that\n",
    "```{math}\n",
    "C = W \\Sigma U^T U \\Sigma W^T = W \\Sigma^2 W^T \\equiv V \\Lambda V^T.\n",
    "```\n",
    "This can be done with few lines of code:"
   ]
  },
  {
   "cell_type": "code",
   "execution_count": 13,
   "id": "eb8632bc",
   "metadata": {},
   "outputs": [
    {
     "data": {
      "image/png": "[encoded data removed]",
      "text/plain": [
       "<IPython.core.display.Image object>"
      ]
     },
     "metadata": {
      "filenames": {
       "image/png": "/home/cirdan/Documenti/Didattica/Corso Modena/phdmodena/recipesforenvsciences2023/src/_build/jupyter_execute/ioplot_25_0.png"
      }
     },
     "output_type": "display_data"
    }
   ],
   "source": [
    "[W,S,U] = svd(C);\n",
    "figure(1)\n",
    "semilogy(1:p,sort(diag(L),\"descend\"),'o',1:p,diag(S),'x')\n",
    "xlabel(\"p\")\n",
    "ylabel(\"Component variances\")\n",
    "legend({'EIG','SVD'},'Location','east')"
   ]
  },
  {
   "cell_type": "markdown",
   "id": "a1b9c392",
   "metadata": {},
   "source": [
    "### Using the MATLAB routine\n",
    "\n",
    "Both strategies are already implemented in a suitable MATLAB command `pca`, that\n",
    "we can investigate by doing"
   ]
  },
  {
   "cell_type": "code",
   "execution_count": 14,
   "id": "2037cbf2",
   "metadata": {},
   "outputs": [
    {
     "name": "stdout",
     "output_type": "stream",
     "text": [
      " pca - Principal component analysis of raw data\n",
      "    This MATLAB function returns the principal component coefficients, also\n",
      "    known as loadings, for the n-by-p data matrix X.\n",
      "\n",
      "    Syntax\n",
      "      coeff = pca(X)\n",
      "      coeff = pca(X,Name,Value)\n",
      "      [coeff,score,latent] = pca(___)\n",
      "      [coeff,score,latent,tsquared] = pca(___)\n",
      "      [coeff,score,latent,tsquared,explained,mu] = pca(___)\n",
      "\n",
      "    Input Arguments\n",
      "      X - Input data\n",
      "        matrix\n",
      "\n",
      "    Name-Value Arguments\n",
      "      Algorithm - Principal component algorithm\n",
      "        'svd' (default) | 'eig' | 'als'\n",
      "      Centered - Indicator for centering columns\n",
      "        true (default) | false\n",
      "      Economy - Indicator for economy size output\n",
      "        true (default) | false\n",
      "      NumComponents - Number of components requested\n",
      "        number of variables (default) | scalar integer\n",
      "      Rows - Action to take for NaN values\n",
      "        'complete' (default) | 'pairwise' | 'all'\n",
      "      Weights - Observation weights\n",
      "        ones (default) | row vector\n",
      "      VariableWeights - Variable"
     ]
    },
    {
     "name": "stdout",
     "output_type": "stream",
     "text": [
      " weights\n",
      "        row vector | 'variance'\n",
      "      Coeff0 - Initial value for coefficients\n",
      "        matrix of random values (default) | p-by-k matrix\n",
      "      Score0 - Initial value for scores\n",
      "        matrix of random values (default) | k-by-m matrix\n",
      "      Options - Options for iterations\n",
      "        structure\n",
      "\n",
      "    Output Arguments\n",
      "      coeff - Principal component coefficients\n",
      "        matrix\n",
      "      score - Principal component scores\n",
      "        matrix\n",
      "      latent - Principal component variances\n",
      "        column vector\n",
      "      tsquared - Hotelling\u001as T-squared statistic\n",
      "        column vector\n",
      "      explained - Percentage of total variance explained\n",
      "        column vector\n",
      "      mu - Estimated means\n",
      "        row vector\n",
      "\n",
      "    Examples\n",
      "      Principal Components of a Data Set\n",
      "      Weighted PCA\n",
      "      PCA Using ALS for Missing Data\n",
      "      Principal Component Coefficients, Scores, and Variances\n",
      "      T-Squared Statistic\n",
      "      Percent Variability Explained by Principal Components\n",
      "      Apply PCA to New Data and Generate C/C++ Code\n",
      "\n",
      "    See a"
     ]
    },
    {
     "name": "stdout",
     "output_type": "stream",
     "text": [
      "lso barttest, biplot, canoncorr, factoran, pcacov, pcares,\n",
      "      rotatefactors, ppca, Reduce Dimensionality\n",
      "\n",
      "    Introduced in Statistics and Machine Learning Toolbox in R2012b\n",
      "    Documentation for pca\n",
      "       doc pca\n",
      "\n",
      "    Other uses of pca\n",
      "\n",
      "       gpuArray/pca    tall/pca\n",
      "\n"
     ]
    }
   ],
   "source": [
    "help pca"
   ]
  },
  {
   "cell_type": "markdown",
   "id": "3f4c227b",
   "metadata": {},
   "source": [
    "For our test application this can be done"
   ]
  },
  {
   "cell_type": "code",
   "execution_count": 15,
   "id": "bf2fd25b",
   "metadata": {},
   "outputs": [
    {
     "data": {
      "image/png": "[encoded data removed]",
      "text/plain": [
       "<IPython.core.display.Image object>"
      ]
     },
     "metadata": {
      "filenames": {
       "image/png": "/home/cirdan/Documenti/Didattica/Corso Modena/phdmodena/recipesforenvsciences2023/src/_build/jupyter_execute/ioplot_29_0.png"
      }
     },
     "output_type": "display_data"
    }
   ],
   "source": [
    "[coeff,score,latent,tsquared,explained,mu] = pca(X);\n",
    "figure(1)\n",
    "semilogy(1:p,sort(diag(L),\"descend\"),'o',1:p,diag(S),'x',...\n",
    "  1:p,latent,'s');\n",
    "xlabel(\"p\")\n",
    "ylabel(\"Component variances\")\n",
    "legend({'EIG','SVD','PCA'},'Location','east')"
   ]
  },
  {
   "cell_type": "markdown",
   "id": "100ea1ca",
   "metadata": {},
   "source": [
    "To visualize the result we can use a **biplot** these are a type of *exploratory graph*\n",
    "often used in statistics. They are a generalization of the simple two-variable\n",
    "*scatterplot*. A **biplot** overlays a *score plot* with a *loading plot*:\n",
    "- samples are displayed as points,\n",
    "- variables are displayed as vectors or linear axes.\n",
    "We can do this in MATLAB by doing:"
   ]
  },
  {
   "cell_type": "code",
   "execution_count": 16,
   "id": "816321c2",
   "metadata": {},
   "outputs": [
    {
     "data": {
      "image/png": "[encoded data removed]",
      "text/plain": [
       "<IPython.core.display.Image object>"
      ]
     },
     "metadata": {
      "filenames": {
       "image/png": "/home/cirdan/Documenti/Didattica/Corso Modena/phdmodena/recipesforenvsciences2023/src/_build/jupyter_execute/ioplot_31_0.png"
      }
     },
     "output_type": "display_data"
    }
   ],
   "source": [
    "biplot(coeff(:,1:2),'scores',score(:,1:2),'varlabels',pizzadata.Properties.VariableNames(3:end));"
   ]
  },
  {
   "cell_type": "markdown",
   "id": "2fdbc64d",
   "metadata": {},
   "source": [
    "We have chosen to display only the first two components because these already\n",
    "explain most of the data:"
   ]
  },
  {
   "cell_type": "code",
   "execution_count": 17,
   "id": "e84212eb",
   "metadata": {},
   "outputs": [
    {
     "data": {
      "image/png": "[encoded data removed]",
      "text/plain": [
       "<IPython.core.display.Image object>"
      ]
     },
     "metadata": {
      "filenames": {
       "image/png": "/home/cirdan/Documenti/Didattica/Corso Modena/phdmodena/recipesforenvsciences2023/src/_build/jupyter_execute/ioplot_33_0.png"
      }
     },
     "output_type": "display_data"
    }
   ],
   "source": [
    "pareto(explained)"
   ]
  },
  {
   "cell_type": "markdown",
   "id": "ebbf32f9",
   "metadata": {},
   "source": [
    "You can choose **between the two construction algorithms** that we have seen by\n",
    "selecting either\n",
    "```{code-block} matlab\n",
    "[coeff,score,latent,tsquared,explained,mu] = pca(X,\"Algorithm\",\"svd\");\n",
    "```\n",
    "or\n",
    "```{code-block} matlab\n",
    "[coeff,score,latent,tsquared,explained,mu] = pca(X,\"Algorithm\",\"eig\");\n",
    "```\n",
    "\n",
    "## Nonnegative Matrix Factorization\n",
    "\n",
    "If we look at some of the values obtained in the factorization these are negative.\n",
    "This makes the results obtained less interpretable than we would like. Let us\n",
    "consider another example.\n",
    "\n",
    "Let us start from another dataset called the **MIT CBCL FACE DATABASE** that can be\n",
    "[downloaded from here](http://www.ai.mit.edu/courses/6.899/lectures/faces.tar.gz).\n",
    "\n",
    "We first **read the data**"
   ]
  },
  {
   "cell_type": "code",
   "execution_count": 18,
   "id": "3e0f3d51",
   "metadata": {},
   "outputs": [],
   "source": [
    "p = 100;\n",
    "data = cell(p,1);\n",
    "index = 1;\n",
    "for i=1:5:5*p\n",
    "    % Put in the following the right path to your data!\n",
    "    data{index} = imread(sprintf(\"data/faces/face.train/train/face/face%05d.pgm\",i));\n",
    "    index = index+1;\n",
    "end"
   ]
  },
  {
   "cell_type": "markdown",
   "id": "aa9630e9",
   "metadata": {},
   "source": [
    "and visualize (few) of them"
   ]
  },
  {
   "cell_type": "code",
   "execution_count": 19,
   "id": "9a5ba8fa",
   "metadata": {},
   "outputs": [
    {
     "data": {
      "image/png": "[encoded data removed]",
      "text/plain": [
       "<IPython.core.display.Image object>"
      ]
     },
     "metadata": {
      "filenames": {
       "image/png": "/home/cirdan/Documenti/Didattica/Corso Modena/phdmodena/recipesforenvsciences2023/src/_build/jupyter_execute/ioplot_37_0.png"
      }
     },
     "output_type": "display_data"
    }
   ],
   "source": [
    "figure(1)\n",
    "for i=1:20\n",
    "    subplot(4,5,i)\n",
    "    imshow(data{i});\n",
    "end"
   ]
  },
  {
   "cell_type": "markdown",
   "id": "d247092c",
   "metadata": {},
   "source": [
    "We can use the PCA to extract some features of the data:"
   ]
  },
  {
   "cell_type": "code",
   "execution_count": 20,
   "id": "1b806204",
   "metadata": {},
   "outputs": [
    {
     "data": {
      "image/png": "[encoded data removed]",
      "text/plain": [
       "<IPython.core.display.Image object>"
      ]
     },
     "metadata": {
      "filenames": {
       "image/png": "/home/cirdan/Documenti/Didattica/Corso Modena/phdmodena/recipesforenvsciences2023/src/_build/jupyter_execute/ioplot_39_0.png"
      }
     },
     "output_type": "display_data"
    }
   ],
   "source": [
    "n = size(data{1},1);\n",
    "X = zeros(n^2,p);\n",
    "for i=1:p\n",
    "    X(:,i) = data{i}(:);\n",
    "end\n",
    "[coeff,score,latent] = pca(double(X));\n",
    "% Characters\n",
    "for i=1:20\n",
    " figure(2)\n",
    " subplot(4,5,i)\n",
    " imshow(reshape(int8(score(:,i)),n,n));\n",
    "end"
   ]
  },
  {
   "cell_type": "markdown",
   "id": "d39459f5",
   "metadata": {},
   "source": [
    "The features are not very descriptive, they have many zone that are made of\n",
    "**negative numbers**, they do not correspond to any interpretable data.\n",
    "\n",
    "We can use instead the Nonnegative Matrix Factorization (`nnmf`) to require for\n",
    "all entries to be positive, i.e., for all extracted feature to be interpretable.\n",
    "This approach refers to a group of algorithms in numerical linear algebra\n",
    "where the matrix of data $X$ is factorized into (usually) two matrices $W$ and $H$,\n",
    "with the property that **all three matrices have no negative elements**.\n",
    "This non-negativity makes the resulting matrices easier to inspect.\n",
    "\n",
    "```{warning}\n",
    "Usually an exact factorization of this type does not exist. So we have to\n",
    "approximate what we have. The number of columns of $W$ and the number of rows\n",
    "of $H$ in NMF should be selected so the product $WH$ will become an\n",
    "approximation to $V$. Since this will be only an approximation, a **residual** $U$,\n",
    "such that: $V = WH + U$ with elements that can either be negative or positive will\n",
    "always be there.\n",
    "```\n",
    "\n",
    "This can be done with:"
   ]
  },
  {
   "cell_type": "code",
   "execution_count": 21,
   "id": "d4900e10",
   "metadata": {},
   "outputs": [
    {
     "data": {
      "image/png": "[encoded data removed]",
      "text/plain": [
       "<IPython.core.display.Image object>"
      ]
     },
     "metadata": {
      "filenames": {
       "image/png": "/home/cirdan/Documenti/Didattica/Corso Modena/phdmodena/recipesforenvsciences2023/src/_build/jupyter_execute/ioplot_41_0.png"
      }
     },
     "output_type": "display_data"
    }
   ],
   "source": [
    "[W,H,D] = nnmf(double(X),10,\"replicates\",10);\n",
    "for i=1:size(W,2)\n",
    " figure(3)\n",
    " subplot(2,5,i)\n",
    " imshow(reshape(int8(W(:,i)),n,n));\n",
    "end"
   ]
  }
 ],
 "metadata": {
  "jupytext": {
   "formats": "md:myst",
   "text_representation": {
    "extension": ".md",
    "format_name": "myst"
   }
  },
  "kernelspec": {
   "display_name": "Matlab",
   "language": "Matlab",
   "name": "matlab"
  },
  "language_info": {
   "codemirror_mode": "octave",
   "file_extension": ".m",
   "help_links": [
    {
     "text": "MetaKernel Magics",
     "url": "https://metakernel.readthedocs.io/en/latest/source/README.html"
    }
   ],
   "mimetype": "text/x-octave",
   "name": "matlab",
   "version": "0.17.1"
  },
  "source_map": [
   11,
   378,
   380,
   382,
   384,
   389,
   393,
   396,
   399,
   401,
   405,
   407,
   411,
   416,
   418,
   424,
   426,
   450,
   452,
   454,
   456,
   458,
   463,
   470,
   472,
   479,
   486,
   492,
   494,
   496,
   504,
   511,
   513,
   516,
   518,
   540,
   549,
   551,
   557,
   559,
   572,
   593
  ]
 },
 "nbformat": 4,
 "nbformat_minor": 5
}