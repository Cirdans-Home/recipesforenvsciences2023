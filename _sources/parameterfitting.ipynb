{
 "cells": [
  {
   "cell_type": "markdown",
   "id": "27809be2",
   "metadata": {},
   "source": [
    "# Fitting data to models\n",
    "\n",
    "Parametric fitting involves finding coefficients (parameters) for one or more\n",
    "models that you want to fit to some experimental data.\n",
    "\n",
    "In general we assume data to be statistical in nature, this means that we can\n",
    "assume it to be divided into two components:\n",
    "```{math}\n",
    "\\text{``data''}\\;=\\;\\text{``true value''}\\;+\\;\\text{``statistical error''},\n",
    "```\n",
    "the other fundamental part is that we are assuming the deterministic component\n",
    "to be given by a model for which the random component is described as an error\n",
    "associated with the data:\n",
    "```{math}\n",
    "\\text{``data''}\\;=\\;\\text{``model''}\\;+\\;\\text{``error''}.\n",
    "```\n",
    "The model is a function of the independent data (predictor) and one or more\n",
    "coefficients, that are the quantities we want to compute. The error represents\n",
    "random variations in the data. For doing a mathematical analysis one usually\n",
    "assumes that they follow a specific probability distribution - in most of the\n",
    "case Gaussian. The source of the error can be varied, but it is always present,\n",
    "errors are bound to happen when you are dealing with measured data.\n",
    "\n",
    "## Least square approach\n",
    "\n",
    "To write down formally the idea we have discussed we can express a general\n",
    "**nonlinear regression model** as\n",
    "```{math}\n",
    "Y_n = f(x_n, \\theta) + Z_n,\n",
    "```\n",
    "where $f$ is the model we want to *fit*, $x_n$ is a vector of the associated\n",
    "variable, $Y_n$ are the attained measurements, $\\theta$ is a vector of\n",
    "parameters defining the model, and $Z_n$ is the error term.\n",
    "\n",
    "To be more practical and less formal, let us start with the tale of a certain\n",
    "Count Rumford of Bavaria (see {cite}`MR1060528`). He was one of the early experimenters on the physics\n",
    "of heat. In 1798 he performed the following experiment, he heated a cannon barrel\n",
    "to a temperature of $130^\\circ\\,{\\rm F}$ and then let it cool to the room\n",
    "temperature of $60^\\circ\\,{\\rm F}$ while taking measure of temperature at\n",
    "different time intervals:\n",
    "```{code} matlab\n",
    "data = [ 4 126 % Time (min) and Temperature (°F)\n",
    "  5 125\n",
    "  7 123\n",
    "  12 120\n",
    "  14 119\n",
    "  16 118\n",
    "  20 116\n",
    "  24 115\n",
    "  28 114\n",
    "  31 113\n",
    "  34 112\n",
    "  37.5 111\n",
    "  41 110\n",
    "]\n",
    "```\n",
    "To interpret these data we can use Newton's law of cooling, which states that\n",
    "```{math}\n",
    "\\frac{\\partial f}{\\partial t} = - \\theta(f-T_0),\n",
    "```\n",
    "where $T_0$ is the ambient temperature. This is one of the few differential\n",
    "equations we actually know how to solve, and indeed we can express\n",
    "```{math}\n",
    "f(t,\\theta) = T_0 + (T_f - T_0) e^{-\\theta t} = 60 + 70 e^{-\\theta t}.\n",
    "```\n",
    "This model now depends *nonlinearly* on just one parameter $\\theta$ that is\n",
    "the one that we have to fit to our data. Mathematically this means that we\n",
    "want to find $\\theta$ such that\n",
    "```{math}\n",
    "  \\min \\sum_{j=1}^{\\text{# of data}}|f(t_j,\\theta) - T_j|^2,\n",
    "```\n",
    "that is we want to solve a **least square** problem. Typically, together with\n",
    "the previous *objective function* we have also some *constraints* on the\n",
    "parameters. For example in this case we may want to impose the constraint of\n",
    "having $\\theta > 0$.\n",
    "\n",
    "To solve these type of problems MATLAB offers a function called `fit`. Let us\n",
    "look at its usage:\n",
    "```{code} matlab\n",
    "fo = fitoptions('Method','NonlinearLeastSquares',...\n",
    "               'Lower',[0],...\n",
    "               'Upper',[Inf],...\n",
    "               'StartPoint',[1]);\n",
    "ft = fittype('60 + 70*exp(-a*x)','options',fo);\n",
    "[curve,gof] = fit(data(:,1),data(:,2),ft);\n",
    "```\n",
    "1. First we have set up some options for the `fit` function:\n",
    "- in the `'Method'` field we have selected the `'NonlinearLeastSquares'`\n",
    "  options. This tells MATLAB that we want to solve the problem in the\n",
    "  mathematical formulation given above.\n",
    "- The `'Lower'` and `'Upper'` keywords denote the bound on the parameters in\n",
    "  the order in which they appear in the model. In our case we have just one\n",
    "  parameter $\\theta$ so we request that `0 \\leq \\theta \\leq \\infty`, that is\n",
    "  $\\theta \\geq 0$.\n",
    "- Finally, with the keyword `'StartPoint'` we tell the algorithm what is the\n",
    "  starting point of the *iterative procedure* producing the solution. **Having\n",
    "  good starting points for the parameters could be crucial!**.\n",
    "2. Then we fix the model we want to fit, the variable is always denote as `x`\n",
    "while the other letters appearing in the expression are interpreted as\n",
    "the parameters\n",
    "3. We finally launch the *fit* operation with the command of the same name by\n",
    "passing to it the data and the model we have defined."
   ]
  },
  {
   "cell_type": "code",
   "execution_count": 1,
   "id": "96435e80",
   "metadata": {},
   "outputs": [
    {
     "data": {
      "image/png": "[encoded data removed]",
      "text/plain": [
       "<IPython.core.display.Image object>"
      ]
     },
     "metadata": {
      "filenames": {
       "image/png": "/home/cirdan/Documenti/Didattica/Corso Modena/phdmodena/recipesforenvsciences2023/src/_build/jupyter_execute/parameterfitting_1_0.png"
      }
     },
     "output_type": "display_data"
    }
   ],
   "source": [
    "% Array containing the data\n",
    "data = [ 4 126 % Time (min) and Temperature (°F)\n",
    "  5 125\n",
    "  7 123\n",
    "  12 120\n",
    "  14 119\n",
    "  16 118\n",
    "  20 116\n",
    "  24 115\n",
    "  28 114\n",
    "  31 113\n",
    "  34 112\n",
    "  37.5 111\n",
    "  41 110\n",
    "];\n",
    "fo = fitoptions('Method','NonlinearLeastSquares',...\n",
    "               'Lower',[0],...\n",
    "               'Upper',[Inf],...\n",
    "               'StartPoint',[1]);\n",
    "ft = fittype('60 + 70*exp(-a*x)','options',fo);\n",
    "[curve,gof] = fit(data(:,1),data(:,2),ft);\n",
    "% We plot the results\n",
    "figure(1)\n",
    "plot(curve,data(:,1),data(:,2))\n",
    "xlabel('Time (m)');\n",
    "ylabel('Temperature (°F)');"
   ]
  },
  {
   "cell_type": "markdown",
   "id": "d7fecf25",
   "metadata": {},
   "source": [
    "The other information we can extract from the fit are contained in the two\n",
    "outputs of the `fit` function, namely:"
   ]
  },
  {
   "cell_type": "code",
   "execution_count": 2,
   "id": "98f94624",
   "metadata": {},
   "outputs": [
    {
     "name": "stdout",
     "output_type": "stream",
     "text": [
      "     General model:\n",
      "     curve(x) = 60 + 70*exp(-a*x)\n"
     ]
    },
    {
     "name": "stdout",
     "output_type": "stream",
     "text": [
      "     Coefficients (with 95% confidence bounds):\n",
      "       a =    0.009416  (0.0085, 0.01033)\n"
     ]
    },
    {
     "name": "stdout",
     "output_type": "stream",
     "text": [
      "           sse: 44.1558\n",
      "       rsquare: 0.8682\n",
      "           dfe: 12\n",
      "    adjrsquare: 0.8682\n",
      "          rmse: 1.9182\n",
      "\n"
     ]
    }
   ],
   "source": [
    "disp(curve)\n",
    "disp(gof)"
   ]
  },
  {
   "cell_type": "markdown",
   "id": "4bce2e2e",
   "metadata": {},
   "source": [
    "::::{exercise} Puromycin\n",
    "We use some data on the \"velocity\" of an enzymatic reaction. Specifically we\n",
    "have measured the number of counts per minute of radioactive product from the\n",
    "reaction as a function of substrate concentration in parts per million (ppm).\n",
    "From these counts the initial rate, or \"velocity\", of the reaction was\n",
    "calculated ($\\text{counts}/\\text{min}^2$). The experiment was conducted once\n",
    "with the enzyme treated with Puromycin and once with the untreated enzyme.\n",
    "\n",
    "The *velocity* is assumed to depend on the substrate concentration according to\n",
    "the Michaelis-Menten, i.e.,\n",
    "```{math}\n",
    "f(x,\\theta) = \\frac{\\theta_1 x}{\\theta_2 + x},\n",
    "```\n",
    "we want to\n",
    "1. Compute the parameters $\\theta_1$ and $\\theta_2$ in the two cases (with and\n",
    "  without using Puromycin),\n",
    "2. Verify the hypothesis on the fact that the ultimate velocity parameter\n",
    "  $\\theta_1$ should be affected by the introduction of the Puromycin, but not\n",
    "  the half-velocity parameter $\\theta_2$.\n",
    "\n",
    "```{code} matlab\n",
    "data = [ % substrate treated untreated\n",
    "  0.02 76 67\n",
    "  0.02 47 51\n",
    "  0.06 97 84\n",
    "  0.06 107 86\n",
    "  0.11 123 98\n",
    "  0.11 139 115\n",
    "  0.22 159 131\n",
    "  0.22 152 124\n",
    "  0.56 191 144\n",
    "  0.56 201 158\n",
    "  1.10 207 160\n",
    "  1.10 200 NaN   \n",
    " ]\n",
    "```\n",
    "::::\n",
    "\n",
    "::::{exercise} Growth of leaves\n",
    "Try to find parameters for the Richards model for the growth of leaves, i.e.,\n",
    "```{math}\n",
    "f(x,\\theta) = \\frac{\\theta_1}{(1+ \\theta_2 e^{-\\theta_3 x})^{1/\\theta4}},\n",
    "```\n",
    "on the following data\n",
    "```{code} matlab\n",
    "data = [ % Time (days) Leaf length (cm)\n",
    "  0.5 1.3\n",
    "  1.5 1.3\n",
    "  2.5 1.9\n",
    "  3.5 3.4\n",
    "  4.5 5.3\n",
    "  5.5 7.1\n",
    "  6.5 10.6\n",
    "  7.5 16.0\n",
    "  8.5 16.4\n",
    "  9.5 18.3\n",
    "  10.5 20.9\n",
    "  11.5 20.5\n",
    "  12.5 21.3\n",
    "  13.5 21.2\n",
    "  14.5 20.9\n",
    "]\n",
    "```\n",
    "::::\n",
    "\n",
    "## Fitting data to a differential model\n",
    "\n",
    "Until now we have always assumed to explicitly know the model. Nevertheless,\n",
    "such models often come as the solution of a differential equation. As we have\n",
    "hinted in the last topic, an explicit solution of a differential equation is\n",
    "usually hard to come by.\n",
    "\n",
    "We could be in the case of having a problem of the form\n",
    "```{math}\n",
    "x' = f(x,\\theta), \\quad x \\in \\mathbb{R}^d, \\; t \\in [0,t_{\\max}], \\quad x(0) = x_0,\n",
    "```\n",
    "depending on a set of parameters $\\theta in \\mathbb{R}^m$. Then we have\n",
    "observations at discrete time points $t_1,\\ldots,t_p \\in [0,t_{\\max}]$ in the\n",
    "form\n",
    "```{math}\n",
    "(t_1,g(x^{(1)})), (t_2,g(x^{(2)})), \\ldots, (t_p,g(x^{(p)})),\n",
    "```\n",
    "for a function $g(\\cdot)$ representing some observable of the system. We can\n",
    "state this problem again in a **least square** formulation as\n",
    "```{math}\n",
    "\\text{ find }\\theta \\in \\mathbb{R}^m \\,:\\, \\min \\sum_{i=1}^{p} \\| g(x(t_i,\\theta)) - g(x^{(i)}) \\|^2,\n",
    "```\n",
    "where $\\|g(x)-g(y)\\| = \\sum_{i=1}^{n} |g_i(x) - g_i(y)|^2$. Thus, by manipulating\n",
    "a bit the quantities we have, we can use again the same strategy we have seen\n",
    "before.\n",
    "\n",
    "Let us use this procedure to **estimate the parameters of a SIR model**. Let us\n",
    "proceed step-by-step\n",
    "- first of all we need the dynamic of the system, since we will work with\n",
    "uncertain data, we will run this time all three differential equations"
   ]
  },
  {
   "cell_type": "code",
   "execution_count": 3,
   "id": "a12e2242",
   "metadata": {},
   "outputs": [],
   "source": [
    "% We order the variables as y(t) = [S(t),I(t)]\n",
    "% lambda = theta(1) gamma = theta(2)\n",
    "sirModel = @(t,y,theta) [-theta(1)*y(1)*y(2); ...\n",
    "    theta(1)*y(1)*y(2)-theta(2)*y(2);...\n",
    "    theta(2)*y(2)];"
   ]
  },
  {
   "cell_type": "markdown",
   "id": "e34fde3e",
   "metadata": {},
   "source": [
    "- then we use the function we have seen in the last topic for integrating\n",
    "differential equations, this will be our workhorse, here we are using the\n",
    "computational resources"
   ]
  },
  {
   "cell_type": "code",
   "execution_count": 4,
   "id": "2ed45528",
   "metadata": {},
   "outputs": [],
   "source": [
    "sirSOL = @(theta,IC,t) deval(ode45( @(t,y) sirModel(t,y,theta),t,IC),t);"
   ]
  },
  {
   "cell_type": "markdown",
   "id": "d189afd4",
   "metadata": {},
   "source": [
    "- now we generate our noisy data, that will represent the measurements taken\n",
    "on the field"
   ]
  },
  {
   "cell_type": "code",
   "execution_count": 5,
   "id": "6835dcf9",
   "metadata": {},
   "outputs": [],
   "source": [
    "% we fix the random number generator so that we generate always the same random numbers:\n",
    "rng(10);\n",
    "numpts=20;\n",
    "tdata = [0, sort(20*rand (1,numpts))];\n",
    "width = 0.1;\n",
    "ndataSIR = 20*[0, normrnd(0,width,[1,numpts]);\n",
    "    0, normrnd(0,width,[1,numpts]);\n",
    "    0, normrnd(0,width,[1,numpts])];\n",
    "\n",
    "lambda = 0.01;\n",
    "gamma = 0.1;\n",
    "S0 = 50;\n",
    "I0 = 1;\n",
    "R0 = 0;\n",
    "theta = [lambda; gamma];\n",
    "IC = [S0; I0; R0];\n",
    "SIRData = sirSOL(theta,IC,tdata) + ndataSIR;"
   ]
  },
  {
   "cell_type": "markdown",
   "id": "9880906e",
   "metadata": {},
   "source": [
    "- now the matrix `SIRData` contains the noisy data of our system with\n",
    "given parameters (that are indeed the parameters that we will try to guess back).\n",
    "To march the optimization procedure we will focus only on the data for\n",
    "for $I(t)$ and $N(t)$"
   ]
  },
  {
   "cell_type": "code",
   "execution_count": 6,
   "id": "5007256a",
   "metadata": {},
   "outputs": [
    {
     "data": {
      "image/png": "[encoded data removed]",
      "text/plain": [
       "<IPython.core.display.Image object>"
      ]
     },
     "metadata": {
      "filenames": {
       "image/png": "/home/cirdan/Documenti/Didattica/Corso Modena/phdmodena/recipesforenvsciences2023/src/_build/jupyter_execute/parameterfitting_11_0.png"
      }
     },
     "output_type": "display_data"
    }
   ],
   "source": [
    "SIRDatared = [0 1 0; 1 1 1]*SIRData;\n",
    "\n",
    "% Let us look at the data we have obtained\n",
    "figure(1)\n",
    "plot(tdata,SIRDatared(1,:),'*',tdata,SIRDatared(2,:),'x')\n",
    "xlabel('t')\n",
    "legend('I^*(t)','S^*(t) + I^*(t) + R^*(t)')"
   ]
  },
  {
   "cell_type": "markdown",
   "id": "34b3732c",
   "metadata": {},
   "source": [
    "- We can now build the **objective** function we wish to optimize"
   ]
  },
  {
   "cell_type": "code",
   "execution_count": 7,
   "id": "8f7c5f0b",
   "metadata": {},
   "outputs": [],
   "source": [
    "SIRthetaSol = @(theta,t) [0 1 0;1 1 1]*sirSOL([theta(1) theta(2)],IC,t);\n",
    "objective = @(theta) sum(sum( (SIRthetaSol(theta,tdata) - SIRDatared).^2 ));"
   ]
  },
  {
   "cell_type": "markdown",
   "id": "bc881dc0",
   "metadata": {},
   "source": [
    "- that we optimize by means of the `fmincon` function. Moreover, we tell to it\n",
    "to print some information on the procedure, and we request that the parameters\n",
    "$\\lambda$ and $\\gamma$ to be in between $[0,0]$ and $[1,4]$ respectively."
   ]
  },
  {
   "cell_type": "code",
   "execution_count": 8,
   "id": "5a40cab3",
   "metadata": {},
   "outputs": [
    {
     "name": "stdout",
     "output_type": "stream",
     "text": [
      "Your initial point x0 is not between bounds lb and ub; FMINCON\n",
      "shifted x0 to strictly satisfy the bounds.\n"
     ]
    },
    {
     "name": "stdout",
     "output_type": "stream",
     "text": [
      "\n"
     ]
    },
    {
     "name": "stdout",
     "output_type": "stream",
     "text": [
      "                                            First-order      Norm of"
     ]
    },
    {
     "name": "stdout",
     "output_type": "stream",
     "text": [
      "\n"
     ]
    },
    {
     "name": "stdout",
     "output_type": "stream",
     "text": [
      " Iter F-count            f(x)  Feasibility   optimality         step"
     ]
    },
    {
     "name": "stdout",
     "output_type": "stream",
     "text": [
      "\n"
     ]
    },
    {
     "name": "stdout",
     "output_type": "stream",
     "text": [
      "    0       3    7.527718e+03    0.000e+00    3.951e+01\n"
     ]
    },
    {
     "name": "stdout",
     "output_type": "stream",
     "text": [
      "    1       6    7.516116e+03    0.000e+00    1.819e+03    9.864e-01"
     ]
    },
    {
     "name": "stdout",
     "output_type": "stream",
     "text": [
      "\n"
     ]
    },
    {
     "name": "stdout",
     "output_type": "stream",
     "text": [
      "    2       9    7.516075e+03    0.000e+00    6.074e+01    8.219e-04"
     ]
    },
    {
     "name": "stdout",
     "output_type": "stream",
     "text": [
      "\n"
     ]
    },
    {
     "name": "stdout",
     "output_type": "stream",
     "text": [
      "    3      12    7.515294e+03    0.000e+00    1.149e+02    1.059e-02"
     ]
    },
    {
     "name": "stdout",
     "output_type": "stream",
     "text": [
      "\n"
     ]
    },
    {
     "name": "stdout",
     "output_type": "stream",
     "text": [
      "    4      15    7.508059e+03    0.000e+00    5.941e+02    2.065e-02"
     ]
    },
    {
     "name": "stdout",
     "output_type": "stream",
     "text": [
      "\n"
     ]
    },
    {
     "name": "stdout",
     "output_type": "stream",
     "text": [
      "    5      25    7.506838e+03    0.000e+00    1.392e+01    2.104e-02"
     ]
    },
    {
     "name": "stdout",
     "output_type": "stream",
     "text": [
      "\n"
     ]
    },
    {
     "name": "stdout",
     "output_type": "stream",
     "text": [
      "    6      28    7.503699e+03    0.000e+00    4.009e+02    9.717e-03"
     ]
    },
    {
     "name": "stdout",
     "output_type": "stream",
     "text": [
      "\n"
     ]
    },
    {
     "name": "stdout",
     "output_type": "stream",
     "text": [
      "    7      31    7.502020e+03    0.000e+00    4.160e+02    1.542e-01"
     ]
    },
    {
     "name": "stdout",
     "output_type": "stream",
     "text": [
      "\n"
     ]
    },
    {
     "name": "stdout",
     "output_type": "stream",
     "text": [
      "    8      34    6.257635e+03    0.000e+00    2.477e+05    3.827e+00"
     ]
    },
    {
     "name": "stdout",
     "output_type": "stream",
     "text": [
      "\n"
     ]
    },
    {
     "name": "stdout",
     "output_type": "stream",
     "text": [
      "    9      40    5.486048e+03    0.000e+00    5.992e+04    4.682e-01"
     ]
    },
    {
     "name": "stdout",
     "output_type": "stream",
     "text": [
      "\n"
     ]
    },
    {
     "name": "stdout",
     "output_type": "stream",
     "text": [
      "   10      50    5.364982e+03    0.000e+00    9.336e+04    1.793e-02"
     ]
    },
    {
     "name": "stdout",
     "output_type": "stream",
     "text": [
      "\n"
     ]
    },
    {
     "name": "stdout",
     "output_type": "stream",
     "text": [
      "   11      53    2.821310e+03    0.000e+00    1.527e+06    4.628e-01"
     ]
    },
    {
     "name": "stdout",
     "output_type": "stream",
     "text": [
      "\n"
     ]
    },
    {
     "name": "stdout",
     "output_type": "stream",
     "text": [
      "   12      58    1.174280e+03    0.000e+00    1.647e+04    1.735e-03"
     ]
    },
    {
     "name": "stdout",
     "output_type": "stream",
     "text": [
      "\n"
     ]
    },
    {
     "name": "stdout",
     "output_type": "stream",
     "text": [
      "   13      61    1.089969e+03    0.000e+00    3.271e+05    1.275e-02"
     ]
    },
    {
     "name": "stdout",
     "output_type": "stream",
     "text": [
      "\n"
     ]
    },
    {
     "name": "stdout",
     "output_type": "stream",
     "text": [
      "   14      64    3.673265e+02    0.000e+00    7.934e+03    6.099e-02"
     ]
    },
    {
     "name": "stdout",
     "output_type": "stream",
     "text": [
      "\n"
     ]
    },
    {
     "name": "stdout",
     "output_type": "stream",
     "text": [
      "   15      75    2.999335e+02    0.000e+00    4.166e+03    2.358e-02"
     ]
    },
    {
     "name": "stdout",
     "output_type": "stream",
     "text": [
      "\n"
     ]
    },
    {
     "name": "stdout",
     "output_type": "stream",
     "text": [
      "   16      78    2.935125e+02    0.000e+00    1.041e+04    5.328e-03"
     ]
    },
    {
     "name": "stdout",
     "output_type": "stream",
     "text": [
      "\n"
     ]
    },
    {
     "name": "stdout",
     "output_type": "stream",
     "text": [
      "   17      81    2.934616e+02    0.000e+00    9.851e+03    5.052e-05"
     ]
    },
    {
     "name": "stdout",
     "output_type": "stream",
     "text": [
      "\n"
     ]
    },
    {
     "name": "stdout",
     "output_type": "stream",
     "text": [
      "   18      84    2.932380e+02    0.000e+00    7.123e+03    2.771e-05"
     ]
    },
    {
     "name": "stdout",
     "output_type": "stream",
     "text": [
      "\n"
     ]
    },
    {
     "name": "stdout",
     "output_type": "stream",
     "text": [
      "   19      87    2.929818e+02    0.000e+00    2.525e+02    1.504e-04"
     ]
    },
    {
     "name": "stdout",
     "output_type": "stream",
     "text": [
      "\n"
     ]
    },
    {
     "name": "stdout",
     "output_type": "stream",
     "text": [
      "   20      90    2.929815e+02    0.000e+00    6.330e+00    1.030e-05"
     ]
    },
    {
     "name": "stdout",
     "output_type": "stream",
     "text": [
      "\n"
     ]
    },
    {
     "name": "stdout",
     "output_type": "stream",
     "text": [
      "   21      93    2.929815e+02    0.000e+00    1.325e-02    3.758e-07"
     ]
    },
    {
     "name": "stdout",
     "output_type": "stream",
     "text": [
      "\n"
     ]
    },
    {
     "name": "stdout",
     "output_type": "stream",
     "text": [
      "\n",
      "Local minimum possible. Constraints satisfied.\n",
      "\n",
      "fmincon stopped because the size of the current step is less than\n",
      "the value of the step size tolerance and constraints are \n",
      "satisfied to within the value of the constraint tolerance.\n",
      "\n"
     ]
    }
   ],
   "source": [
    "options = optimset('Display','iter');\n",
    "[SIRtheta, fval, exitflag] = ...\n",
    "    fmincon(objective,[0.1 4],[],[],[],[],[0 0],[1 4],[],options);"
   ]
  },
  {
   "cell_type": "markdown",
   "id": "c2606468",
   "metadata": {},
   "source": [
    "- In the final step we can print the results we have obtained to screen:"
   ]
  },
  {
   "cell_type": "code",
   "execution_count": 9,
   "id": "0b22e278",
   "metadata": {},
   "outputs": [
    {
     "data": {
      "image/png": "[encoded data removed]",
      "text/plain": [
       "<IPython.core.display.Image object>"
      ]
     },
     "metadata": {
      "filenames": {
       "image/png": "/home/cirdan/Documenti/Didattica/Corso Modena/phdmodena/recipesforenvsciences2023/src/_build/jupyter_execute/parameterfitting_17_0.png"
      }
     },
     "output_type": "display_data"
    }
   ],
   "source": [
    "tsol = linspace(0,max(tdata),400);\n",
    "SIRSOL = sirSOL(SIRtheta,IC,tsol);\n",
    "\n",
    "figure(1)\n",
    "plot(tdata,SIRData(1,:),'b*',...\n",
    "    tdata,SIRData(2,:),'rx',...\n",
    "    tdata,SIRData(3,:),'g^',...\n",
    "    tdata,sum(SIRData),'k.',...\n",
    "    tsol,SIRSOL(1,:),'b-',tsol,SIRSOL(2,:),'r-',tsol,SIRSOL(3,:),'g-',...\n",
    "    tsol,sum(SIRSOL),'k--');\n",
    "xlabel('t')\n",
    "legend({'S^*(t)','I^*(t)','R^*(t)','N^*(t)',...\n",
    "    'S(t)','I(t)','R(t)','N'},'Location','eastoutside')\n",
    "axis tight"
   ]
  },
  {
   "cell_type": "markdown",
   "id": "ec1dacf2",
   "metadata": {},
   "source": [
    "## Bibliography\n",
    "\n",
    "```{bibliography}\n",
    ":filter: docname in docnames\n",
    "```"
   ]
  }
 ],
 "metadata": {
  "jupytext": {
   "formats": "md:myst",
   "text_representation": {
    "extension": ".md",
    "format_name": "myst"
   }
  },
  "kernelspec": {
   "display_name": "Matlab",
   "language": "Matlab",
   "name": "matlab"
  },
  "language_info": {
   "codemirror_mode": "octave",
   "file_extension": ".m",
   "help_links": [
    {
     "text": "MetaKernel Magics",
     "url": "https://metakernel.readthedocs.io/en/latest/source/README.html"
    }
   ],
   "mimetype": "text/x-octave",
   "name": "matlab",
   "version": "0.17.1"
  },
  "source_map": [
   11,
   116,
   143,
   146,
   149,
   246,
   252,
   256,
   258,
   261,
   279,
   284,
   292,
   294,
   297,
   301,
   305,
   307,
   322
  ]
 },
 "nbformat": 4,
 "nbformat_minor": 5
}